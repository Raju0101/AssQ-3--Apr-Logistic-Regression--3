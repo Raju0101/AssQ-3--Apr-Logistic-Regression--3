{
 "cells": [
  {
   "cell_type": "markdown",
   "id": "ed643253-f398-430a-a913-eafc64887174",
   "metadata": {},
   "source": [
    "# AssQ 3 - Apr Logistic Regression - 3"
   ]
  },
  {
   "cell_type": "code",
   "execution_count": null,
   "id": "672c41fc-9fc1-4864-bebf-f23e81ba6b73",
   "metadata": {},
   "outputs": [],
   "source": [
    "Q1. Explain the concept of precision and recall in the context of classification models."
   ]
  },
  {
   "cell_type": "code",
   "execution_count": null,
   "id": "f19e3eb2-8058-4d5f-b38e-4f621f1c011c",
   "metadata": {},
   "outputs": [],
   "source": [
    "Precision is a metric that measures the accuracy of positive predictions.\n",
    "It is the number of true positive predictions divided by the number of true positive\n",
    "predictions plus false positive predictions. \n",
    "Recall, on the other hand, measures the completeness of positive predictions.\n",
    "\n",
    "Recall: The ability of a model to find all the relevant cases within a data set.\n",
    "Mathematically, we define recall as the number of true positives divided by the number \n",
    "of true positives plus the number of false negatives. \n",
    "Precision: The ability of a classification model to identify only the relevant data points.\n",
    "\n",
    "Recall of a machine learning model is dependent on positive samples and independent of negative samples.\n",
    "In Precision, we should consider all positive samples that are classified as positive either correctly or incorrectly. \n",
    "The recall cares about correctly classifying all positive samples.\n",
    "\n",
    "how are they calculated -\n",
    "\n",
    "Accuracy = (TP+FP)/(TP+FP+FP+FN)\n",
    "\n",
    "Precision = (TP)/(TP+FP)\n",
    "\n",
    "Recall = (TP)/(TP+FN)\n",
    "\n",
    "F1 Score = 2 x [( Accuracy * Recall ) / ( Accuracy + Recall )]"
   ]
  },
  {
   "cell_type": "code",
   "execution_count": null,
   "id": "254be6e5-c371-4f79-8e55-53d1481b6930",
   "metadata": {},
   "outputs": [],
   "source": []
  },
  {
   "cell_type": "code",
   "execution_count": null,
   "id": "bfe97703-26b9-47a8-9cf2-227aafb367c5",
   "metadata": {},
   "outputs": [],
   "source": [
    "Q2. What is the F1 score and how is it calculated? How is it different from precision and recall?"
   ]
  },
  {
   "cell_type": "code",
   "execution_count": null,
   "id": "0bd85c70-6575-47ed-9777-44bc719d0ff6",
   "metadata": {},
   "outputs": [],
   "source": [
    "F1-Score is a measure combining both precision and recall. \n",
    "It is generally described as the harmonic mean of the two. Harmonic mean is \n",
    "just another way to calculate an “average” of values, generally described as more suitable\n",
    "for ratios (such as precision and recall) than the traditional arithmetic mean.\n",
    "\n",
    "An F-score is the harmonic mean of a system's precision and recall values. \n",
    "It can be calculated by the following formula: \n",
    "    \n",
    "F - Score = 2 x [(Precision x Recall) / (Precision + Recall)].\n",
    "\n",
    "For example, a perfect precision and recall score would result in a perfect F-Measure score:\n",
    "F-Measure = (2 * Precision * Recall) / (Precision + Recall)\n",
    "F-Measure = (2 * 1.0 * 1.0) / (1.0 + 1.0) F-Measure = (2 * 1.0) / 2.0.\n",
    "\n",
    "Precision quantifies the number of positive class predictions that actually belong to the positive class.\n",
    "Recall quantifies the number of positive class predictions made out of all positive examples in the dataset.\n",
    "F-Measure provides a single score that balances both the concerns of precision and recall in one number.\n",
    "\n",
    "F1-score when Precision=0.8 and Recall = 0.01 to 1.0\n",
    "\n",
    "Here precision is fixed at 0.8, while Recall varies from 0.01 to 1.0 as before:\n",
    "Calculating F1-Score when precision is always 0.8 and recall varies from 0.0 to 1.0.\n"
   ]
  },
  {
   "cell_type": "code",
   "execution_count": null,
   "id": "1ec43a4a-db75-43de-9b51-48a1c76d014e",
   "metadata": {},
   "outputs": [],
   "source": []
  },
  {
   "cell_type": "code",
   "execution_count": null,
   "id": "1dd67fdf-dcfb-40cb-a6ed-6e2fc02c7b61",
   "metadata": {},
   "outputs": [],
   "source": [
    "Q3. What is ROC and AUC, and how are they used to evaluate the performance of classification models?"
   ]
  },
  {
   "cell_type": "code",
   "execution_count": null,
   "id": "aa394723-e932-427e-8875-8110c7a322b1",
   "metadata": {},
   "outputs": [],
   "source": [
    "ROC is a probability curve and AUC represents the degree or measure of separability.\n",
    "It tells how much the model is capable of distinguishing between classes. \n",
    "Higher the AUC, the better the model is at predicting 0 classes as 0 and 1 classes as 1.\n",
    "\n",
    "A AUC ROC stands for “Area Under the Curve” of the “Receiver Operating Characteristic” curve. \n",
    "The AUC ROC curve is basically a way of measuring the performance of an ML model. AUC measures the ability \n",
    "of a binaryclassifier to distinguish between classes and is used as a summary of the ROC curve.\n",
    "\n",
    "An ROC curve (receiver operating characteristic curve) is a graph showing the performance of\n",
    "a classification model at all classification thresholds. \n",
    "This curve plots two parameters: True Positive Rate. False Positive Rate.\n",
    "\n",
    "Generally, AUC is preferred over Accuracy as it is a much better indicator of model performance.\n",
    "This is because AUC uses the True Positive Rate and False Positive Rate of the model across different cut-off thresholds,\n",
    "and if you are using the Accuracy metric, it is advised to use other metrics as well"
   ]
  },
  {
   "cell_type": "code",
   "execution_count": null,
   "id": "d9363ec1-3de2-481a-b773-339b60c8e614",
   "metadata": {},
   "outputs": [],
   "source": []
  },
  {
   "cell_type": "code",
   "execution_count": null,
   "id": "87633e96-e251-4a83-b5d9-8e3502b769f3",
   "metadata": {},
   "outputs": [],
   "source": [
    "Q4. How do you choose the best metric to evaluate the performance of a classification model?"
   ]
  },
  {
   "cell_type": "code",
   "execution_count": null,
   "id": "b753b85d-da1e-4723-9055-47563d7c8dfa",
   "metadata": {},
   "outputs": [],
   "source": [
    "Metrics like accuracy, precision, recall are good ways to evaluate classification\n",
    "models for balanced datasets, but if the data is imbalanced then other methods\n",
    "like ROC/AUC perform better in evaluating the model performance.\n",
    "\n",
    "The most commonly used Performance metrics for classification problem are as follows,\n",
    "Accuracy. Confusion Matrix. Precision, Recall, and F1 score.\n",
    "\n",
    "The most important part of the evaluation process is choosing an appropriate metric. \n",
    "Classification accuracy is not the best choice for classification problems with unbalanced target variables. \n",
    "Precision and recall can be used in such tasks\n",
    "\n",
    "8 Metrics to Measure Classification Performance. … ...\n",
    "Accuracy. The overall accuracy of a model is simply the number of correct predictions\n",
    "divided by the total number of predictions. ...\n",
    "Confusion Matrix. ...\n",
    "AUC/ROC. ...\n",
    "Precision. ...\n",
    "Recall. ...\n",
    "F1 score. ...\n",
    "Kappa."
   ]
  },
  {
   "cell_type": "code",
   "execution_count": null,
   "id": "b97b2f39-e245-4548-9eeb-7ec67c0fa556",
   "metadata": {},
   "outputs": [],
   "source": []
  },
  {
   "cell_type": "code",
   "execution_count": null,
   "id": "3e288b7a-0a7f-4b6d-a115-82c68ce3d9d4",
   "metadata": {},
   "outputs": [],
   "source": [
    "What is multiclass classification and how is it different from binary classification?"
   ]
  },
  {
   "cell_type": "code",
   "execution_count": null,
   "id": "2373a315-1f13-4695-b6ed-3e0e20bfb2cc",
   "metadata": {},
   "outputs": [],
   "source": [
    "Binary classification are those tasks where examples are assigned exactly one of two classes. \n",
    "Multi-class classification is those tasks where examples are assigned exactly one of more than two classes.\n",
    "\n",
    "In machine learning and statistical classification, multiclass classification or\n",
    "multinomial classification is the problem of classifying instances into one of three or more classes \n",
    "(classifying instances into one of two classes is called binary classification).\n",
    "\n",
    "In machine learning, binary classification is a supervised learning algorithm that \n",
    "categorizes new observations into one of two classes. The following are a few binary classification applications, \n",
    "where the 0 and 1 columns are two possible classes for each observation: Application."
   ]
  },
  {
   "cell_type": "code",
   "execution_count": null,
   "id": "bf0da265-be15-4bbb-aa98-ecd07ca11c23",
   "metadata": {},
   "outputs": [],
   "source": []
  },
  {
   "cell_type": "code",
   "execution_count": null,
   "id": "3eb5254b-f89d-4ed6-b20a-48a4b6e2e260",
   "metadata": {},
   "outputs": [],
   "source": [
    "Q5. Explain how logistic regression can be used for multiclass classification."
   ]
  },
  {
   "cell_type": "code",
   "execution_count": null,
   "id": "e672fa5d-f63a-4c3d-8153-4b434a0dcfc7",
   "metadata": {},
   "outputs": [],
   "source": [
    "Logistic regression, by default, is limited to two-class classification problems. \n",
    "Some extensions like one-vs-rest can allow logistic regression to be used for\n",
    "multi-class classification problems, although they require that \n",
    "the classification problem first be transformed into multiple binary classification problems.\n",
    "\n",
    "Logistic regression can be applied to solve multiclass problems. For each class, \n",
    "build a logistic regression to find the probability the observation belongs to that class.\n",
    "For each data point, predict the class with the highest probability.\n",
    "\n",
    "Logistic regression is designed for two-class problems, modeling the target using a\n",
    "binomial probability distribution function. The class labels are mapped to 1 for \n",
    "the positive class or outcome and 0 for the negative class or outcome. \n",
    "The fit model predicts the probability that an example belongs to class 1.\n"
   ]
  },
  {
   "cell_type": "code",
   "execution_count": null,
   "id": "0308fd2b-a26d-4cfa-8318-82af342ca403",
   "metadata": {},
   "outputs": [],
   "source": [
    "Q6. Describe the steps involved in an end-to-end project for multiclass classification."
   ]
  },
  {
   "cell_type": "code",
   "execution_count": null,
   "id": "bbbf26a2-df3a-4934-a4b1-40df937e1c2e",
   "metadata": {},
   "outputs": [],
   "source": [
    "It comprises three basic steps: feature selection, classification model building \n",
    "and validation of the constructed model. In the feature selection step, \n",
    "it is necessary to create an optimal data subset which reduces noise and bias,\n",
    "thereby enhancing the accuracy of classification process.\n",
    "\n",
    "Multi-class classification makes the assumption that each sample is assigned to one and\n",
    "only one label: a fruit can be either an apple or a pear but not both at the same time.\n",
    "Imbalanced Dataset: Imbalanced data typically refers to a\n",
    "problem with classification problems where the classes are not represented equally.\n",
    "\n",
    "We will work through the following process:\n",
    "\n",
    "Load the dataset.\n",
    "Analyze the dataset.\n",
    "Evaluate algorithms.\n",
    "Present results.\n",
    "\n",
    "# make a prediction with a multinomial logistic regression model.\n",
    "# define dataset.\n",
    "# define the multinomial logistic regression model For multiclass classification.\n",
    "# Train test split.\n",
    "# trianing model"
   ]
  },
  {
   "cell_type": "code",
   "execution_count": null,
   "id": "e8ecc2f9-c7aa-4a9e-a7e4-f5dcf29e6616",
   "metadata": {},
   "outputs": [],
   "source": []
  },
  {
   "cell_type": "code",
   "execution_count": null,
   "id": "92d6ee94-1971-4500-8e2d-ddf470ea1898",
   "metadata": {},
   "outputs": [],
   "source": [
    "Q7. What is model deployment and why is it important?"
   ]
  },
  {
   "cell_type": "code",
   "execution_count": null,
   "id": "58b873ff-78bd-408d-bdac-f146701763d6",
   "metadata": {},
   "outputs": [],
   "source": [
    "Deployment is the method by which you integratea machine learning model into an existing \n",
    "production environment to make practical business decisions based on data.\n",
    "It is one of the last stages in the machine learning life cycle and can be one of the most cumbersome.\n",
    "\n",
    "The purpose of deploying your model is so that you can make the predictions from \n",
    "a trained ML model available to others, whether that be users, management, or other systems.\n",
    "\n",
    "Model deployment is the process of putting machine learning models into production. \n",
    "This makes the model's predictions available to users, developers or systems, \n",
    "so they can make business decisions based on data,\n",
    "interact with their application (like recognize a face in an image) and so on."
   ]
  },
  {
   "cell_type": "code",
   "execution_count": null,
   "id": "723137d7-51a7-4fcd-8207-d81ef88053c6",
   "metadata": {},
   "outputs": [],
   "source": []
  },
  {
   "cell_type": "code",
   "execution_count": null,
   "id": "43987c0d-8a4d-4f7d-8948-a931e045314f",
   "metadata": {},
   "outputs": [],
   "source": [
    "Q8. Explain how multi-cloud platforms are used for model deployment."
   ]
  },
  {
   "cell_type": "code",
   "execution_count": null,
   "id": "d996c3cb-7e76-4973-9148-a8cfab4eff2e",
   "metadata": {},
   "outputs": [],
   "source": [
    "Multicloud deployments interconnect services from separate cloud environments for \n",
    "different purposes without having to connect the clouds. On the other hand,\n",
    "hybrid cloud deployments typically combine a private computing environment \n",
    "(on-premises IT infrastructure or a private cloud) and a public computing environment.\n",
    "\n",
    "A multi-cloud approach typically consists of a mix of major public cloud providers, namely -\n",
    "Amazon Web Services (AWS), Google Cloud Platform (GCP), Microsoft (Azure), and IBM.\n",
    "\n",
    "Multi-Cloud refers to the distributed, heterogeneous world of applications and users across public clouds,\n",
    "data centers and edge. In this model, organizations utilize a combination of on-premises, private cloud,\n",
    "public cloud, and edge to build, operate, access, and secure their applications consistently across clouds.\n",
    "\n",
    "A multi-cloud strategy enables digital transformation by transforming the design, development, \n",
    "and delivery of applications across clouds. With a multi-cloud strategy, organizations can deploy apps on the public, \n",
    "private and edge clouds that best suit their business objectives and application needs.\n",
    "\n",
    "These best practices are helpful for organizations pursuing a multi-cloud environment:\n",
    "Define your goals. With leadership and stakeholders, take a good hard look at why you need a multi-cloud strategy. ...\n",
    "Research vendors. ...\n",
    "Plan for resilience. ...\n",
    "Consider distributed cloud. ...\n",
    "Improve visibility. ...\n",
    "Refine your strategy"
   ]
  },
  {
   "cell_type": "code",
   "execution_count": null,
   "id": "cd22f848-660b-41e8-814d-c817c7832dbd",
   "metadata": {},
   "outputs": [],
   "source": []
  },
  {
   "cell_type": "code",
   "execution_count": null,
   "id": "bfc50cc3-ad55-45f7-bc27-e2be82c6ccb4",
   "metadata": {},
   "outputs": [],
   "source": [
    "Q9. Discuss the benefits and challenges of deploying machine learning models in a multi-cloud environment."
   ]
  },
  {
   "cell_type": "code",
   "execution_count": null,
   "id": "b8ccb725-0074-491c-bbb1-28d3d488dae3",
   "metadata": {},
   "outputs": [],
   "source": [
    "A multicloud environment allows you to build anywhere, fast. With a multicloud approach,\n",
    "you're not tied to a single provider. You can choose whatever solution best \n",
    "suits your business needs while reducing data, interoperability, and\n",
    "cost issues that often arise when you become too dependent on one cloud.\n",
    "\n",
    "the challenges of multi cloud- \n",
    "\n",
    "Increased architectural complexity\n",
    "The additional complexity of multi-cloud management usually requires additional time and \n",
    "expenses to ensure the solution is implemented correctly. The complexity most likely spans several areas of technology, \n",
    "such as networking, automation, data services, recoverability, and security."
   ]
  },
  {
   "cell_type": "code",
   "execution_count": null,
   "id": "6b4f24b4-fa19-4f2f-a86a-7e69791aa23e",
   "metadata": {},
   "outputs": [],
   "source": []
  },
  {
   "cell_type": "code",
   "execution_count": null,
   "id": "f21271f2-6dff-4a1d-b885-6e9c1051a3c2",
   "metadata": {},
   "outputs": [],
   "source": []
  }
 ],
 "metadata": {
  "kernelspec": {
   "display_name": "Python 3 (ipykernel)",
   "language": "python",
   "name": "python3"
  },
  "language_info": {
   "codemirror_mode": {
    "name": "ipython",
    "version": 3
   },
   "file_extension": ".py",
   "mimetype": "text/x-python",
   "name": "python",
   "nbconvert_exporter": "python",
   "pygments_lexer": "ipython3",
   "version": "3.10.6"
  }
 },
 "nbformat": 4,
 "nbformat_minor": 5
}
